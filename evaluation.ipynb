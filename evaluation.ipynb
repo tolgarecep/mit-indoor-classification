{
 "cells": [
  {
   "cell_type": "code",
   "execution_count": 1,
   "id": "a589dece",
   "metadata": {},
   "outputs": [],
   "source": [
    "import os\n",
    "os.environ['CUDA_VISIBLE_DEVICES'] = '-1'"
   ]
  },
  {
   "cell_type": "code",
   "execution_count": 13,
   "id": "28ae02ee",
   "metadata": {},
   "outputs": [],
   "source": [
    "import numpy as np\n",
    "import tensorflow as tf\n",
    "from tensorflow.keras import models\n",
    "from tensorflow.keras.preprocessing.image import ImageDataGenerator\n",
    "from sklearn.metrics import classification_report, confusion_matrix, f1_score"
   ]
  },
  {
   "cell_type": "markdown",
   "id": "60572db6",
   "metadata": {},
   "source": [
    "Loading models"
   ]
  },
  {
   "cell_type": "code",
   "execution_count": 3,
   "id": "4808b1e6",
   "metadata": {},
   "outputs": [],
   "source": [
    "model1 = models.load_model('indoors1.h5')\n",
    "model2 = models.load_model('indoors2.h5')"
   ]
  },
  {
   "cell_type": "markdown",
   "id": "0334f5d3",
   "metadata": {},
   "source": [
    "Importing test data:"
   ]
  },
  {
   "cell_type": "code",
   "execution_count": 17,
   "id": "bcd5615c",
   "metadata": {},
   "outputs": [],
   "source": [
    "test_features = np.load('test_features.npy')\n",
    "test_labels = np.load('test_labels.npy')\n",
    "test_labels = np.argmax(test_labels, axis=1)"
   ]
  },
  {
   "cell_type": "code",
   "execution_count": 5,
   "id": "930e3679",
   "metadata": {},
   "outputs": [
    {
     "name": "stdout",
     "output_type": "stream",
     "text": [
      "Found 1340 images belonging to 67 classes.\n"
     ]
    }
   ],
   "source": [
    "test_dir = r'.\\indoorCVPR_09\\test'\n",
    "test_datagen = ImageDataGenerator(rescale=1./255)\n",
    "test_generator = test_datagen.flow_from_directory(test_dir, target_size=(150, 150), batch_size=20, \n",
    "                                                  class_mode='categorical')"
   ]
  },
  {
   "cell_type": "markdown",
   "id": "ab572012",
   "metadata": {},
   "source": [
    "Making predictions:"
   ]
  },
  {
   "cell_type": "code",
   "execution_count": 8,
   "id": "fa55f76f",
   "metadata": {},
   "outputs": [],
   "source": [
    "y_pred1 = model1.predict(test_features)\n",
    "y_pred1 = np.argmax(y_pred1, axis=1)\n",
    "y_pred2 = model2.predict(test_generator)\n",
    "y_pred2 = np.argmax(y_pred2, axis=1)"
   ]
  },
  {
   "cell_type": "markdown",
   "id": "0c6b29f1",
   "metadata": {},
   "source": [
    "<h4>Evaluation for model1</h4>"
   ]
  },
  {
   "cell_type": "code",
   "execution_count": 18,
   "id": "aa40fde9",
   "metadata": {},
   "outputs": [
    {
     "data": {
      "text/plain": [
       "array([[0, 0, 0, ..., 0, 1, 1],\n",
       "       [0, 1, 0, ..., 0, 0, 0],\n",
       "       [0, 0, 0, ..., 0, 1, 0],\n",
       "       ...,\n",
       "       [0, 0, 1, ..., 0, 0, 0],\n",
       "       [1, 1, 2, ..., 0, 0, 0],\n",
       "       [0, 0, 0, ..., 0, 0, 0]], dtype=int64)"
      ]
     },
     "execution_count": 18,
     "metadata": {},
     "output_type": "execute_result"
    }
   ],
   "source": [
    "confusion_matrix(test_labels, y_pred1)"
   ]
  },
  {
   "cell_type": "code",
   "execution_count": 25,
   "id": "48cb94ac",
   "metadata": {},
   "outputs": [
    {
     "data": {
      "text/plain": [
       "'              precision    recall  f1-score   support\\n\\n           0       0.00      0.00      0.00        20\\n           1       0.04      0.05      0.05        20\\n           2       0.00      0.00      0.00        18\\n           3       0.00      0.00      0.00        19\\n           4       0.00      0.00      0.00        18\\n           5       0.00      0.00      0.00        18\\n           6       0.06      0.10      0.08        21\\n           7       0.00      0.00      0.00        20\\n           8       0.00      0.00      0.00        20\\n           9       0.00      0.00      0.00        20\\n          10       0.00      0.00      0.00        19\\n          11       0.00      0.00      0.00        18\\n          12       0.00      0.00      0.00        19\\n          13       0.00      0.00      0.00        18\\n          14       0.00      0.00      0.00        20\\n          15       0.00      0.00      0.00        18\\n          16       0.00      0.00      0.00        18\\n          17       0.00      0.00      0.00        18\\n          18       0.00      0.00      0.00        20\\n          19       0.12      0.10      0.11        21\\n          20       0.00      0.00      0.00        19\\n          21       0.00      0.00      0.00        21\\n          22       0.00      0.00      0.00        18\\n          23       0.00      0.00      0.00        21\\n          24       0.00      0.00      0.00        17\\n          25       0.11      0.11      0.11        19\\n          26       0.00      0.00      0.00        20\\n          27       0.00      0.00      0.00        18\\n          28       0.00      0.00      0.00        20\\n          29       0.00      0.00      0.00        21\\n          30       0.00      0.00      0.00        18\\n          31       0.04      0.05      0.05        21\\n          32       0.03      0.05      0.04        20\\n          33       0.00      0.00      0.00        23\\n          34       0.00      0.00      0.00        21\\n          35       0.00      0.00      0.00        22\\n          36       0.00      0.00      0.00        20\\n          37       0.07      0.05      0.06        21\\n          38       0.00      0.00      0.00        22\\n          39       0.07      0.05      0.05        22\\n          40       0.00      0.00      0.00        20\\n          41       0.05      0.05      0.05        20\\n          42       0.05      0.05      0.05        20\\n          43       0.00      0.00      0.00        21\\n          44       0.04      0.05      0.05        20\\n          45       0.00      0.00      0.00        22\\n          46       0.00      0.00      0.00        20\\n          47       0.00      0.00      0.00        23\\n          48       0.05      0.05      0.05        20\\n          49       0.00      0.00      0.00        21\\n          50       0.07      0.05      0.06        19\\n          51       0.04      0.05      0.05        20\\n          52       0.04      0.05      0.05        20\\n          53       0.00      0.00      0.00        20\\n          54       0.00      0.00      0.00        20\\n          55       0.00      0.00      0.00        23\\n          56       0.00      0.00      0.00        19\\n          57       0.00      0.00      0.00        20\\n          58       0.00      0.00      0.00        19\\n          59       0.00      0.00      0.00        21\\n          60       0.00      0.00      0.00        22\\n          61       0.00      0.00      0.00        20\\n          62       0.00      0.00      0.00        18\\n          63       0.00      0.00      0.00        22\\n          64       0.00      0.00      0.00        21\\n          65       0.00      0.00      0.00        21\\n          66       0.00      0.00      0.00        21\\n\\n    accuracy                           0.01      1340\\n   macro avg       0.01      0.01      0.01      1340\\nweighted avg       0.01      0.01      0.01      1340\\n'"
      ]
     },
     "execution_count": 25,
     "metadata": {},
     "output_type": "execute_result"
    }
   ],
   "source": [
    "classification_report(test_labels, y_pred1)"
   ]
  },
  {
   "cell_type": "code",
   "execution_count": 21,
   "id": "d9994bb5",
   "metadata": {},
   "outputs": [
    {
     "data": {
      "text/plain": [
       "0.013308410995253607"
      ]
     },
     "execution_count": 21,
     "metadata": {},
     "output_type": "execute_result"
    }
   ],
   "source": [
    "f1_score(test_labels, y_pred1,average='weighted')"
   ]
  },
  {
   "cell_type": "markdown",
   "id": "48817ee1",
   "metadata": {},
   "source": [
    "<h4>Evaluation for model2<h4>"
   ]
  },
  {
   "cell_type": "code",
   "execution_count": 10,
   "id": "b122a35d",
   "metadata": {},
   "outputs": [
    {
     "data": {
      "text/plain": [
       "array([[0, 0, 0, ..., 0, 0, 0],\n",
       "       [0, 0, 2, ..., 0, 0, 0],\n",
       "       [2, 0, 0, ..., 0, 0, 0],\n",
       "       ...,\n",
       "       [0, 0, 0, ..., 0, 1, 1],\n",
       "       [0, 0, 0, ..., 0, 1, 0],\n",
       "       [0, 1, 2, ..., 0, 0, 0]], dtype=int64)"
      ]
     },
     "execution_count": 10,
     "metadata": {},
     "output_type": "execute_result"
    }
   ],
   "source": [
    "confusion_matrix(test_generator.classes, y_pred2)"
   ]
  },
  {
   "cell_type": "code",
   "execution_count": 11,
   "id": "bc98df48",
   "metadata": {},
   "outputs": [
    {
     "data": {
      "text/plain": [
       "'              precision    recall  f1-score   support\\n\\n           0       0.00      0.00      0.00        20\\n           1       0.00      0.00      0.00        20\\n           2       0.00      0.00      0.00        18\\n           3       0.00      0.00      0.00        19\\n           4       0.00      0.00      0.00        18\\n           5       0.00      0.00      0.00        18\\n           6       0.00      0.00      0.00        21\\n           7       0.00      0.00      0.00        20\\n           8       0.00      0.00      0.00        20\\n           9       0.00      0.00      0.00        20\\n          10       0.00      0.00      0.00        19\\n          11       0.09      0.11      0.10        18\\n          12       0.00      0.00      0.00        19\\n          13       0.00      0.00      0.00        18\\n          14       0.00      0.00      0.00        20\\n          15       0.00      0.00      0.00        18\\n          16       0.00      0.00      0.00        18\\n          17       0.00      0.00      0.00        18\\n          18       0.00      0.00      0.00        20\\n          19       0.00      0.00      0.00        21\\n          20       0.00      0.00      0.00        19\\n          21       0.00      0.00      0.00        21\\n          22       0.00      0.00      0.00        18\\n          23       0.00      0.00      0.00        21\\n          24       0.03      0.06      0.04        17\\n          25       0.00      0.00      0.00        19\\n          26       0.00      0.00      0.00        20\\n          27       0.00      0.00      0.00        18\\n          28       0.08      0.10      0.09        20\\n          29       0.04      0.05      0.04        21\\n          30       0.00      0.00      0.00        18\\n          31       0.00      0.00      0.00        21\\n          32       0.00      0.00      0.00        20\\n          33       0.00      0.00      0.00        23\\n          34       0.00      0.00      0.00        21\\n          35       0.00      0.00      0.00        22\\n          36       0.03      0.05      0.03        20\\n          37       0.07      0.05      0.06        21\\n          38       0.04      0.05      0.04        22\\n          39       0.00      0.00      0.00        22\\n          40       0.00      0.00      0.00        20\\n          41       0.00      0.00      0.00        20\\n          42       0.00      0.00      0.00        20\\n          43       0.02      0.05      0.03        21\\n          44       0.00      0.00      0.00        20\\n          45       0.00      0.00      0.00        22\\n          46       0.07      0.05      0.06        20\\n          47       0.00      0.00      0.00        23\\n          48       0.00      0.00      0.00        20\\n          49       0.00      0.00      0.00        21\\n          50       0.00      0.00      0.00        19\\n          51       0.00      0.00      0.00        20\\n          52       0.05      0.05      0.05        20\\n          53       0.00      0.00      0.00        20\\n          54       0.00      0.00      0.00        20\\n          55       0.00      0.00      0.00        23\\n          56       0.00      0.00      0.00        19\\n          57       0.05      0.05      0.05        20\\n          58       0.00      0.00      0.00        19\\n          59       0.00      0.00      0.00        21\\n          60       0.00      0.00      0.00        22\\n          61       0.00      0.00      0.00        20\\n          62       0.00      0.00      0.00        18\\n          63       0.00      0.00      0.00        22\\n          64       0.00      0.00      0.00        21\\n          65       0.05      0.05      0.05        21\\n          66       0.00      0.00      0.00        21\\n\\n    accuracy                           0.01      1340\\n   macro avg       0.01      0.01      0.01      1340\\nweighted avg       0.01      0.01      0.01      1340\\n'"
      ]
     },
     "execution_count": 11,
     "metadata": {},
     "output_type": "execute_result"
    }
   ],
   "source": [
    "classification_report(test_generator.classes, y_pred2)"
   ]
  },
  {
   "cell_type": "code",
   "execution_count": 15,
   "id": "9e286332",
   "metadata": {},
   "outputs": [
    {
     "data": {
      "text/plain": [
       "0.009535147242713307"
      ]
     },
     "execution_count": 15,
     "metadata": {},
     "output_type": "execute_result"
    }
   ],
   "source": [
    "f1_score(test_generator.classes, y_pred2, average='weighted')"
   ]
  },
  {
   "cell_type": "code",
   "execution_count": null,
   "id": "61c18972",
   "metadata": {},
   "outputs": [],
   "source": []
  }
 ],
 "metadata": {
  "kernelspec": {
   "display_name": "Python 3 (ipykernel)",
   "language": "python",
   "name": "python3"
  },
  "language_info": {
   "codemirror_mode": {
    "name": "ipython",
    "version": 3
   },
   "file_extension": ".py",
   "mimetype": "text/x-python",
   "name": "python",
   "nbconvert_exporter": "python",
   "pygments_lexer": "ipython3",
   "version": "3.8.3"
  }
 },
 "nbformat": 4,
 "nbformat_minor": 5
}
